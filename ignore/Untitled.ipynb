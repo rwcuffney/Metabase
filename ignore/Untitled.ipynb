{
 "cells": [
  {
   "cell_type": "code",
   "execution_count": 2,
   "metadata": {},
   "outputs": [],
   "source": [
    "def get_endpoint(endpoint):\n",
    "    \"\"\"\n",
    "    Class of API endpoints\n",
    "    \"\"\"\n",
    "    endpoint = f\"https://services-api.lexisnexis.com/v1/{endpoint}?\"\n",
    "    return endpoint\n"
   ]
  },
  {
   "cell_type": "code",
   "execution_count": 11,
   "id": "a519a0e6",
   "metadata": {},
   "outputs": [],
   "source": [
    "my_list = list(APIEndpoints.__dict__.keys())"
   ]
  },
  {
   "cell_type": "code",
   "execution_count": 15,
   "id": "72a40d6a",
   "metadata": {},
   "outputs": [],
   "source": [
    "my_list = my_list[2:-2]"
   ]
  },
  {
   "cell_type": "code",
   "execution_count": 30,
   "id": "bd2805de",
   "metadata": {},
   "outputs": [
    {
     "data": {
      "text/plain": [
       "'# Metabase.py Documentation\\n\\n## 1. Introduction\\n\\n### Overview\\n\\nThe `metabase.py` module provides a Python interface to interact with the Metabase API. It allows you to perform searches and retrieve articles using the Metabase API. The module facilitates the creation of Python objects representing the API response, making it easy to work with the data.\\n\\n### Authors\\n\\n- Robert Cuffney\\n- Ozgur Aycan\\n- CS Integration Consultants @ LexisNexis\\n\\n### Version\\n\\nCurrent version: 3.0\\n## 2. Installation\\n\\n### Dependencies\\n\\nTo use the `metabase.py` module, you need the following dependencies:\\n\\n- requests\\n- json\\n- pandas\\n- datetime\\n- lexisnexisapi\\n\\n### Installation\\n\\nYou can install the required dependencies using pip:\\n\\n```bash\\npip install requests pandas lexisnexisapi\\n```\\n\\n## 3. Usage\\n\\n### Importing the Module\\n\\nTo use the `metabase.py` module in your Python script, import it as follows:\\n\\n```python\\nfrom lexisnexisapi import metabase\\n```\\n\\n### Search Class\\n\\nThe `Search` class is the main interface to perform searches and retrieve articles from Metabase. It has the following attributes and methods:\\n\\n#### Attributes:\\n\\n- `parameters`: A dictionary of Metabase search parameters.\\n- `articles`: A list containing the articles retrieved from the Metabase API response.\\n- `totalResults`: The total number of articles available in the search results.\\n\\n#### Methods:\\n\\n- `__init__(self, full_dataset=False, **kwargs)`: Initializes the Search object and performs the API request. If `full_dataset` is set to `True`, it retrieves all available articles by making multiple API calls.\\n- `articles_dataframe(self, *args)`: Returns a Pandas DataFrame containing the articles\\' data. You can pass a list of desired fields (`*args`) to filter the DataFrame.\\n- `create_file(self, file=\\'articles.json\\')`: Creates a JSON file with the articles retrieved from the search.\\n- `set_parameters(self, p)`: Sets the Metabase search parameters based on the input dictionary `p`.\\n\\n### Streamline Class\\n\\nThe `Streamline` class helps maximize Metabase search calls without exceeding the rate limit. It keeps track of the remaining API calls per minute and waits for a new minute if needed.\\n\\n#### Attributes:\\n\\n- `key`: Metabase API key.\\n- `start_minute`: The starting minute when the Streamline object is instantiated.\\n- `minute_limit`: The maximum number of API calls allowed per minute based on the rate limit.\\n- `calls_remaining`: The remaining API calls within the current minute.\\n\\n#### Methods:\\n\\n- `__init__(self, key)`: Initializes the Streamline object with the Metabase API key and fetches the rate limit information.\\n- `track_calls(self)`: Updates the remaining API calls and waits for a new minute if the limit is reached.\\n- `restart(self)`: Restarts the Streamline object.\\n- `wait_for_new_min(self)`: Pauses execution until a new minute starts.\\n- `get_current_minute(self)`: Returns the current minute as an integer.\\n\\n### Article Class\\n\\nThe `Article` class represents an instance of a single article retrieved from Metabase. It sets each key from the article dictionary as an attribute of the class.\\n\\n### Helper Functions\\n\\nThe module also provides some helper functions:\\n\\n- `http_request(p)`: Performs an HTTP request to the Metabase API with the given parameters `p` and returns the API response as a dictionary.\\n- `rate_check(mbkey)`: Calls the Metabase rate limit API and returns the results as a list of dictionaries.\\n- `set_Metabase_Search_Key(v)`: Sets the Metabase search key in the credentials.\\n- `get_time()`: Returns the current minute as an integer.\\n\\n## 4. Examples\\n\\n### Basic Search Example\\n\\n```python\\nfrom lexisnexisapi import metabase\\n\\n# Set the Metabase search key (optional, you can set it in the parameters directly)\\nmetabase.set_mb_search_key(\"your_metabase_key\")\\n\\n# Perform a basic search\\nsearch = metabase.Search(query=\"your_query_here\", limit=100)\\n\\n# Get the DataFrame of articles\\ndf = search.articles_dataframe(\"title\", \"author\", \"published_date\")\\nprint(df.head())\\n```\\n\\n### Full Dataset Search Example\\n\\n```python\\nfrom lexisnexisapi import metabase\\n\\n# Set the Metabase search key (optional, you can set it in the parameters directly)\\nmetabase.set_mb_search_key(\"your_metabase_key\")\\n\\n# Perform a full dataset search\\nsearch = metabase.Search(full_dataset=True, query=\"your_query_here\")\\n\\n# Create a JSON file with all the articles\\nsearch.create_file(\"articles_full.json\")\\n```\\n\\n### Article Instance Example\\n\\n```python\\nfrom lexisnexisapi  import metabase\\n\\n# Set the Metabase search key (optional, you can set it in the parameters directly)\\nmetabase.set_mb_search_key(\"your_metabase_key\")\\n\\n# Perform a search and get an article instance\\nsearch = metabase.Search(query=\"your_query_here\", limit=1)\\narticle_instance = metabase.Article(search.articles[0])\\n\\n# Access attributes of the article instance\\nprint(article_instance.title)\\nprint(article_instance.author)\\nprint(article_instance.published_date)\\n```\\n\\n### Index Terms Example\\n\\n```python\\nfrom lexisnexisapi import metabase\\n\\n# Set the Metabase search key (optional, you can set it in the parameters directly)\\nmetabase.set_mb_search_key(\"your_metabase_key\")\\n\\n# Perform a search\\nsearch = metabase.Search(query=\"your_query_here\", limit=100)\\n\\n# Get the DataFrame of index terms\\nindex_terms_df = metabase.indexTerms(search, \"economy\", \"politics\", \"technology\")\\nprint(index_terms_df.head())\\n```\\n\\nPlease note that you should replace `your_metabase_key` and `your_query_here` with your actual Metabase API key and desired search query, respectively, in the examples.'"
      ]
     },
     "execution_count": 30,
     "metadata": {},
     "output_type": "execute_result"
    }
   ],
   "source": [
    "import os\n",
    "def read(fname):\n",
    "    return open(os.path.join(os.getcwd(), fname)).read()\n",
    "read('README.md')"
   ]
  },
  {
   "cell_type": "code",
   "execution_count": 29,
   "id": "3ac13b10",
   "metadata": {},
   "outputs": [
    {
     "name": "stdout",
     "output_type": "stream",
     "text": [
      "/Users/rwcuffney/GitHub/lexisnexisapi/ignore\n"
     ]
    }
   ],
   "source": [
    "print(os.getcwd())"
   ]
  },
  {
   "cell_type": "code",
   "execution_count": null,
   "id": "f2d0fd5b",
   "metadata": {},
   "outputs": [],
   "source": []
  }
 ],
 "metadata": {
  "kernelspec": {
   "display_name": "LN_API_library_venv",
   "language": "python",
   "name": "python3"
  },
  "language_info": {
   "codemirror_mode": {
    "name": "ipython",
    "version": 3
   },
   "file_extension": ".py",
   "mimetype": "text/x-python",
   "name": "python",
   "nbconvert_exporter": "python",
   "pygments_lexer": "ipython3",
   "version": "3.11.4"
  }
 },
 "nbformat": 4,
 "nbformat_minor": 5
}
