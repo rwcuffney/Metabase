{
 "cells": [
  {
   "cell_type": "code",
   "execution_count": 3,
   "metadata": {},
   "outputs": [
    {
     "data": {
      "text/plain": [
       "<module 'lexisnexisapi.webservices' from '/Users/rwcuffney/.venv/LN_API_library_venv/lib/python3.11/site-packages/lexisnexisapi/webservices.py'>"
      ]
     },
     "execution_count": 3,
     "metadata": {},
     "output_type": "execute_result"
    }
   ],
   "source": [
    "import importlib\n",
    "import lexisnexisapi\n",
    "from lexisnexisapi import credentials as cred\n",
    "from lexisnexisapi import metabase as mb\n",
    "from lexisnexisapi import webservices as ws\n",
    "importlib.reload(lexisnexisapi)\n",
    "importlib.reload(mb)\n",
    "importlib.reload(cred)\n",
    "importlib.reload(ws)"
   ]
  },
  {
   "cell_type": "code",
   "execution_count": 33,
   "metadata": {},
   "outputs": [
    {
     "name": "stdout",
     "output_type": "stream",
     "text": [
      "Requirement already satisfied: lexisnexisapi in /Users/rwcuffney/.venv/LN_API_library_venv/lib/python3.11/site-packages (2.0.49)\n",
      "Collecting lexisnexisapi\n",
      "  Obtaining dependency information for lexisnexisapi from https://files.pythonhosted.org/packages/11/94/ca8eeb63b0a65a6cd57f5f9d0fb2ee61f597a13d12ed20f704859118edd5/lexisnexisapi-3.0.1-py3-none-any.whl.metadata\n",
      "  Downloading lexisnexisapi-3.0.1-py3-none-any.whl.metadata (6.0 kB)\n",
      "Downloading lexisnexisapi-3.0.1-py3-none-any.whl (9.7 kB)\n",
      "Installing collected packages: lexisnexisapi\n",
      "  Attempting uninstall: lexisnexisapi\n",
      "    Found existing installation: lexisnexisapi 2.0.49\n",
      "    Uninstalling lexisnexisapi-2.0.49:\n",
      "      Successfully uninstalled lexisnexisapi-2.0.49\n",
      "Successfully installed lexisnexisapi-3.0.1\n"
     ]
    }
   ],
   "source": [
    "!pip install lexisnexisapi --upgrade"
   ]
  },
  {
   "cell_type": "code",
   "execution_count": 35,
   "metadata": {},
   "outputs": [],
   "source": [
    "### Simple News Search\n",
    "parameters = {'$expand':'Document,PostFilters',\n",
    "              '$search': '\"Bank of America\"',\n",
    "              '$orderby':'Date desc',\n",
    "              '$filter':\"GroupDuplicates eq LexisNexis.ServicesApi.GroupDuplicates'ModerateSimilarity'\",\n",
    "              '$skip':'20'\n",
    "         }\n",
    "\n",
    "data = ws.call_api(access_token=token,endpoint='NEWS',params=parameters)\n"
   ]
  },
  {
   "cell_type": "code",
   "execution_count": 38,
   "metadata": {},
   "outputs": [],
   "source": [
    "### Simple News Search\n",
    "parameters = {'$expand':'DocumentParts',\n",
    "              '$search': '\"Bank of America\"'\n",
    "              #'$orderby':'Date desc',\n",
    "              #'$filter':\"GroupDuplicates eq LexisNexis.ServicesApi.GroupDuplicates'ModerateSimilarity'\",\n",
    "              #'$skip':'20'\n",
    "         }\n",
    "\n",
    "data = ws.call_api(access_token=token,endpoint='DOCKETS',params=parameters)"
   ]
  },
  {
   "cell_type": "code",
   "execution_count": 16,
   "metadata": {},
   "outputs": [
    {
     "data": {
      "text/plain": [
       "mappingproxy({'__module__': 'lexisnexisapi.webservices',\n",
       "              'COMPANYANDFINANCIAL': 'https://services-api.lexisnexis.com/v1/CompanyAndFinancial?',\n",
       "              'COMPANYDOSSIERS': 'https://services-api.lexisnexis.com/v1/CompanyDossiers?',\n",
       "              'NEWS': 'https://services-api.lexisnexis.com/v1/News?',\n",
       "              'SOURCES': 'https://services-api.lexisnexis.com/v1/Sources?',\n",
       "              'DOCKETS': 'https://services-api.lexisnexis.com/v1/Dockets?',\n",
       "              'JURYVERDICTSANDSETTLEMENTS': 'https://services-api.lexisnexis.com/v1/JuryVerdictsSettlements?',\n",
       "              '__dict__': <attribute '__dict__' of 'APIEndpoints' objects>,\n",
       "              '__weakref__': <attribute '__weakref__' of 'APIEndpoints' objects>,\n",
       "              '__doc__': None})"
      ]
     },
     "execution_count": 16,
     "metadata": {},
     "output_type": "execute_result"
    }
   ],
   "source": [
    "ws.APIEndpoints.__dict__"
   ]
  },
  {
   "cell_type": "code",
   "execution_count": 31,
   "metadata": {},
   "outputs": [],
   "source": [
    "token = ws.token()"
   ]
  },
  {
   "cell_type": "code",
   "execution_count": null,
   "metadata": {},
   "outputs": [],
   "source": []
  },
  {
   "cell_type": "code",
   "execution_count": 2,
   "metadata": {},
   "outputs": [],
   "source": [
    "\n"
   ]
  },
  {
   "cell_type": "code",
   "execution_count": 9,
   "metadata": {},
   "outputs": [
    {
     "data": {
      "text/plain": [
       "'/Users/rwcuffney/.venv/LN_API_library_venv/lib/python3.11/site-packages/lexisnexisapi/webservices.py'"
      ]
     },
     "execution_count": 9,
     "metadata": {},
     "output_type": "execute_result"
    }
   ],
   "source": [
    "ws.__file__"
   ]
  },
  {
   "cell_type": "code",
   "execution_count": 10,
   "metadata": {},
   "outputs": [
    {
     "name": "stdout",
     "output_type": "stream",
     "text": [
      "Requirement already satisfied: requests in /Users/rwcuffney/.venv/LN_API_library_venv/lib/python3.11/site-packages (2.31.0)\n",
      "Requirement already satisfied: charset-normalizer<4,>=2 in /Users/rwcuffney/.venv/LN_API_library_venv/lib/python3.11/site-packages (from requests) (3.2.0)\n",
      "Requirement already satisfied: idna<4,>=2.5 in /Users/rwcuffney/.venv/LN_API_library_venv/lib/python3.11/site-packages (from requests) (3.4)\n",
      "Requirement already satisfied: urllib3<3,>=1.21.1 in /Users/rwcuffney/.venv/LN_API_library_venv/lib/python3.11/site-packages (from requests) (2.0.4)\n",
      "Requirement already satisfied: certifi>=2017.4.17 in /Users/rwcuffney/.venv/LN_API_library_venv/lib/python3.11/site-packages (from requests) (2023.7.22)\n"
     ]
    }
   ],
   "source": [
    "!pip install requests"
   ]
  },
  {
   "cell_type": "code",
   "execution_count": 12,
   "metadata": {},
   "outputs": [],
   "source": [
    "\n",
    "token = ws.token()"
   ]
  },
  {
   "cell_type": "code",
   "execution_count": 6,
   "metadata": {},
   "outputs": [
    {
     "name": "stdout",
     "output_type": "stream",
     "text": [
      "\"van Halen\" and subject:\"POP & ROCK\" AND language:English\n"
     ]
    }
   ],
   "source": [
    "q='\"van Halen\" and subject:\"POP & ROCK\" AND language:English'\n",
    "print(q)\n",
    "myData = mb.Search(query=q)"
   ]
  },
  {
   "cell_type": "code",
   "execution_count": null,
   "metadata": {},
   "outputs": [],
   "source": []
  }
 ],
 "metadata": {
  "kernelspec": {
   "display_name": "LN_API_library_venv",
   "language": "python",
   "name": "python3"
  },
  "language_info": {
   "codemirror_mode": {
    "name": "ipython",
    "version": 3
   },
   "file_extension": ".py",
   "mimetype": "text/x-python",
   "name": "python",
   "nbconvert_exporter": "python",
   "pygments_lexer": "ipython3",
   "version": "3.11.4"
  },
  "orig_nbformat": 4
 },
 "nbformat": 4,
 "nbformat_minor": 2
}
